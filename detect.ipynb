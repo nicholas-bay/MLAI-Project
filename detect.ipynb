{
 "cells": [
  {
   "cell_type": "code",
   "execution_count": 1,
   "metadata": {},
   "outputs": [],
   "source": [
    "import cv2\n",
    "import numpy as np\n",
    "import tensorflow as tf\n",
    "from PIL import Image, ImageOps"
   ]
  },
  {
   "cell_type": "code",
   "execution_count": 2,
   "metadata": {},
   "outputs": [],
   "source": [
    "model = tf.keras.models.load_model('model.hdf5')"
   ]
  },
  {
   "cell_type": "code",
   "execution_count": 3,
   "metadata": {},
   "outputs": [],
   "source": [
    "def import_and_predict(image_data, model):\n",
    "  size = (100, 100)\n",
    "  image = ImageOps.fit(image_data, size, Image.ANTIALIAS)\n",
    "  image = image.convert('RGB')\n",
    "  image = np.asarray(image)\n",
    "  image = (image.astype(np.float32) / 255.0)\n",
    "  img_reshape = image[np.newaxis, ...]\n",
    "  prediction = model.predict(img_reshape)\n",
    "  return prediction"
   ]
  },
  {
   "cell_type": "code",
   "execution_count": 4,
   "metadata": {},
   "outputs": [
    {
     "ename": "",
     "evalue": "",
     "output_type": "error",
     "traceback": [
      "\u001b[1;31mCanceled future for execute_request message before replies were done"
     ]
    },
    {
     "ename": "",
     "evalue": "",
     "output_type": "error",
     "traceback": [
      "\u001b[1;31mThe Kernel crashed while executing code in the the current cell or a previous cell. Please review the code in the cell(s) to identify a possible cause of the failure. Click <a href='https://aka.ms/vscodeJupyterKernelCrash'>here</a> for more info. View Jupyter <a href='command:jupyter.viewOutput'>log</a> for further details."
     ]
    }
   ],
   "source": [
    "cap = cv2.VideoCapture(0)\n",
    "if (cap.isOpened()):\n",
    "  print(\"Camera OK\")\n",
    "else:\n",
    "  print(\"Camera NOT HERE\")\n",
    "  cap.open()"
   ]
  },
  {
   "cell_type": "code",
   "execution_count": null,
   "metadata": {},
   "outputs": [],
   "source": [
    "while (True):\n",
    "  ret, original = cap.read()\n",
    "  frame = cv2.resize(original, (224, 224))\n",
    "  cv2.imwrite(filename='img.jpg', img=original)\n",
    "  image = Image.open('img.jpg')\n",
    "\n",
    "  # Display the predictions\n",
    "  # print(\"ImageNet ID: {}, Label: {}\".format(inID, label))\n",
    "  prediction = import_and_predict(image, model)\n",
    "  #print(prediction)\n",
    "\n",
    "  if np.argmax(prediction) == 0:\n",
    "    predict = \"orange\"\n",
    "  elif np.argmax(prediction) == 1:\n",
    "    predict = \"onion\"\n",
    "  else:\n",
    "    predict = \"unknown\"\n",
    "\n",
    "  cv2.putText(\n",
    "      original, predict, (10, 30),\n",
    "      cv2.FONT_HERSHEY_SIMPLEX, 0.9, (0, 255, 0), 2)\n",
    "  cv2.imshow(\"Classification\", original)\n",
    "\n",
    "  if (cv2.waitKey(1) & 0xFF == ord('q')):\n",
    "    break\n",
    "\n",
    "cap.release()\n",
    "frame = None\n",
    "cv2.destroyAllWindows()\n",
    "sys.exit()\n"
   ]
  }
 ],
 "metadata": {
  "kernelspec": {
   "display_name": "Python 3.9.12 ('base')",
   "language": "python",
   "name": "python3"
  },
  "language_info": {
   "codemirror_mode": {
    "name": "ipython",
    "version": 3
   },
   "file_extension": ".py",
   "mimetype": "text/x-python",
   "name": "python",
   "nbconvert_exporter": "python",
   "pygments_lexer": "ipython3",
   "version": "3.9.12"
  },
  "orig_nbformat": 4,
  "vscode": {
   "interpreter": {
    "hash": "f5f3b503761c611454f5bf055e471b52c505544d349f5f84e5ba07f10d0afdf2"
   }
  }
 },
 "nbformat": 4,
 "nbformat_minor": 2
}
